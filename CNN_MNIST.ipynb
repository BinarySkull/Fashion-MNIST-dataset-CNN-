{
 "cells": [
  {
   "cell_type": "markdown",
   "id": "9ef9ed63",
   "metadata": {},
   "source": [
    "## This notebook is for applying the CNN model to the fashion MNIST data set."
   ]
  },
  {
   "cell_type": "markdown",
   "id": "8e2b6f0b",
   "metadata": {},
   "source": [
    "Three basic components to define a basic convolutional neural network.\n",
    "\n",
    ">The Convolutional Layer\n",
    "\n",
    ">The Pooling layer\n",
    "\n",
    ">The Output layer"
   ]
  },
  {
   "cell_type": "markdown",
   "id": "a7d985ad",
   "metadata": {},
   "source": [
    "### Click where you want to go!\n",
    "<ul>\n",
    "<li><a href=\"#preprocessing\">Data Preprocessing</a></li>\n",
    "<li><a href=\"#visualization\">Data vizualization</a></li>\n",
    "<li><a href=\"#cnn\">CNN</a></li>\n",
    "<li><a href=\"#results\">Results</a></li>\n",
    "</ul>"
   ]
  },
  {
   "cell_type": "code",
   "execution_count": 105,
   "id": "73bee6a2",
   "metadata": {},
   "outputs": [],
   "source": [
    "import numpy as np # linear algebra\n",
    "import pandas as pd # data reading and preprocessing\n",
    "from keras.models import Sequential\n",
    "from keras.layers import Conv2D,MaxPooling2D,Dense,Flatten,Dropout\n",
    "from sklearn.model_selection import train_test_split # to split the data to train and test sets\n",
    "import matplotlib.pyplot as plt # to visualize the images\n",
    "from keras.optimizers import Adam\n",
    "\n",
    "import warnings\n",
    "warnings.filterwarnings('ignore')   # to avoid bad errors"
   ]
  },
  {
   "cell_type": "markdown",
   "id": "f80e2fbd",
   "metadata": {},
   "source": [
    "<a id='preprocessing'></a>\n",
    "### Data Preprocessing"
   ]
  },
  {
   "cell_type": "code",
   "execution_count": 106,
   "id": "2e18c230",
   "metadata": {},
   "outputs": [],
   "source": [
    "# Now we read the train and test data files into a pandas dataframe.\n",
    "train_data = pd.read_csv('fashion-mnist_train.csv')\n",
    "test_data = pd.read_csv('fashion-mnist_test.csv')"
   ]
  },
  {
   "cell_type": "code",
   "execution_count": 107,
   "id": "db67b225",
   "metadata": {
    "scrolled": true
   },
   "outputs": [
    {
     "data": {
      "text/html": [
       "<div>\n",
       "<style scoped>\n",
       "    .dataframe tbody tr th:only-of-type {\n",
       "        vertical-align: middle;\n",
       "    }\n",
       "\n",
       "    .dataframe tbody tr th {\n",
       "        vertical-align: top;\n",
       "    }\n",
       "\n",
       "    .dataframe thead th {\n",
       "        text-align: right;\n",
       "    }\n",
       "</style>\n",
       "<table border=\"1\" class=\"dataframe\">\n",
       "  <thead>\n",
       "    <tr style=\"text-align: right;\">\n",
       "      <th></th>\n",
       "      <th>label</th>\n",
       "      <th>pixel1</th>\n",
       "      <th>pixel2</th>\n",
       "      <th>pixel3</th>\n",
       "      <th>pixel4</th>\n",
       "      <th>pixel5</th>\n",
       "      <th>pixel6</th>\n",
       "      <th>pixel7</th>\n",
       "      <th>pixel8</th>\n",
       "      <th>pixel9</th>\n",
       "      <th>...</th>\n",
       "      <th>pixel775</th>\n",
       "      <th>pixel776</th>\n",
       "      <th>pixel777</th>\n",
       "      <th>pixel778</th>\n",
       "      <th>pixel779</th>\n",
       "      <th>pixel780</th>\n",
       "      <th>pixel781</th>\n",
       "      <th>pixel782</th>\n",
       "      <th>pixel783</th>\n",
       "      <th>pixel784</th>\n",
       "    </tr>\n",
       "  </thead>\n",
       "  <tbody>\n",
       "    <tr>\n",
       "      <th>0</th>\n",
       "      <td>2</td>\n",
       "      <td>0</td>\n",
       "      <td>0</td>\n",
       "      <td>0</td>\n",
       "      <td>0</td>\n",
       "      <td>0</td>\n",
       "      <td>0</td>\n",
       "      <td>0</td>\n",
       "      <td>0</td>\n",
       "      <td>0</td>\n",
       "      <td>...</td>\n",
       "      <td>0</td>\n",
       "      <td>0</td>\n",
       "      <td>0</td>\n",
       "      <td>0</td>\n",
       "      <td>0</td>\n",
       "      <td>0</td>\n",
       "      <td>0</td>\n",
       "      <td>0</td>\n",
       "      <td>0</td>\n",
       "      <td>0</td>\n",
       "    </tr>\n",
       "    <tr>\n",
       "      <th>1</th>\n",
       "      <td>9</td>\n",
       "      <td>0</td>\n",
       "      <td>0</td>\n",
       "      <td>0</td>\n",
       "      <td>0</td>\n",
       "      <td>0</td>\n",
       "      <td>0</td>\n",
       "      <td>0</td>\n",
       "      <td>0</td>\n",
       "      <td>0</td>\n",
       "      <td>...</td>\n",
       "      <td>0</td>\n",
       "      <td>0</td>\n",
       "      <td>0</td>\n",
       "      <td>0</td>\n",
       "      <td>0</td>\n",
       "      <td>0</td>\n",
       "      <td>0</td>\n",
       "      <td>0</td>\n",
       "      <td>0</td>\n",
       "      <td>0</td>\n",
       "    </tr>\n",
       "    <tr>\n",
       "      <th>2</th>\n",
       "      <td>6</td>\n",
       "      <td>0</td>\n",
       "      <td>0</td>\n",
       "      <td>0</td>\n",
       "      <td>0</td>\n",
       "      <td>0</td>\n",
       "      <td>0</td>\n",
       "      <td>0</td>\n",
       "      <td>5</td>\n",
       "      <td>0</td>\n",
       "      <td>...</td>\n",
       "      <td>0</td>\n",
       "      <td>0</td>\n",
       "      <td>0</td>\n",
       "      <td>30</td>\n",
       "      <td>43</td>\n",
       "      <td>0</td>\n",
       "      <td>0</td>\n",
       "      <td>0</td>\n",
       "      <td>0</td>\n",
       "      <td>0</td>\n",
       "    </tr>\n",
       "    <tr>\n",
       "      <th>3</th>\n",
       "      <td>0</td>\n",
       "      <td>0</td>\n",
       "      <td>0</td>\n",
       "      <td>0</td>\n",
       "      <td>1</td>\n",
       "      <td>2</td>\n",
       "      <td>0</td>\n",
       "      <td>0</td>\n",
       "      <td>0</td>\n",
       "      <td>0</td>\n",
       "      <td>...</td>\n",
       "      <td>3</td>\n",
       "      <td>0</td>\n",
       "      <td>0</td>\n",
       "      <td>0</td>\n",
       "      <td>0</td>\n",
       "      <td>1</td>\n",
       "      <td>0</td>\n",
       "      <td>0</td>\n",
       "      <td>0</td>\n",
       "      <td>0</td>\n",
       "    </tr>\n",
       "    <tr>\n",
       "      <th>4</th>\n",
       "      <td>3</td>\n",
       "      <td>0</td>\n",
       "      <td>0</td>\n",
       "      <td>0</td>\n",
       "      <td>0</td>\n",
       "      <td>0</td>\n",
       "      <td>0</td>\n",
       "      <td>0</td>\n",
       "      <td>0</td>\n",
       "      <td>0</td>\n",
       "      <td>...</td>\n",
       "      <td>0</td>\n",
       "      <td>0</td>\n",
       "      <td>0</td>\n",
       "      <td>0</td>\n",
       "      <td>0</td>\n",
       "      <td>0</td>\n",
       "      <td>0</td>\n",
       "      <td>0</td>\n",
       "      <td>0</td>\n",
       "      <td>0</td>\n",
       "    </tr>\n",
       "  </tbody>\n",
       "</table>\n",
       "<p>5 rows × 785 columns</p>\n",
       "</div>"
      ],
      "text/plain": [
       "   label  pixel1  pixel2  pixel3  pixel4  pixel5  pixel6  pixel7  pixel8  \\\n",
       "0      2       0       0       0       0       0       0       0       0   \n",
       "1      9       0       0       0       0       0       0       0       0   \n",
       "2      6       0       0       0       0       0       0       0       5   \n",
       "3      0       0       0       0       1       2       0       0       0   \n",
       "4      3       0       0       0       0       0       0       0       0   \n",
       "\n",
       "   pixel9  ...  pixel775  pixel776  pixel777  pixel778  pixel779  pixel780  \\\n",
       "0       0  ...         0         0         0         0         0         0   \n",
       "1       0  ...         0         0         0         0         0         0   \n",
       "2       0  ...         0         0         0        30        43         0   \n",
       "3       0  ...         3         0         0         0         0         1   \n",
       "4       0  ...         0         0         0         0         0         0   \n",
       "\n",
       "   pixel781  pixel782  pixel783  pixel784  \n",
       "0         0         0         0         0  \n",
       "1         0         0         0         0  \n",
       "2         0         0         0         0  \n",
       "3         0         0         0         0  \n",
       "4         0         0         0         0  \n",
       "\n",
       "[5 rows x 785 columns]"
      ]
     },
     "execution_count": 107,
     "metadata": {},
     "output_type": "execute_result"
    }
   ],
   "source": [
    "train_data.head()"
   ]
  },
  {
   "cell_type": "markdown",
   "id": "1b9dccfe",
   "metadata": {},
   "source": [
    "So, we have a column for labels and 784 column each for a pixel value for 1 image in every row. "
   ]
  },
  {
   "cell_type": "code",
   "execution_count": 108,
   "id": "3376a84d",
   "metadata": {},
   "outputs": [],
   "source": [
    "# To split the data we need to convert the dataframes into float numpy because keras accepts that.\n",
    "train_dataf = np.array(train_data, dtype = 'float32')\n",
    "test_dataf = np.array(test_data, dtype='float32')"
   ]
  },
  {
   "cell_type": "code",
   "execution_count": 109,
   "id": "a6a21fc8",
   "metadata": {},
   "outputs": [],
   "source": [
    "# We also need to rescale the pixels to values between 0 and 1 for better results while splittinf them.\n",
    "x_train = train_dataf[:,1:]/255\n",
    "y_train = train_dataf[:,0]\n",
    "x_test= test_dataf[:,1:]/255\n",
    "y_test=test_dataf[:,0]"
   ]
  },
  {
   "cell_type": "code",
   "execution_count": 110,
   "id": "f9857303",
   "metadata": {},
   "outputs": [],
   "source": [
    "# now we create a validation set and actual training set\n",
    "x_train,x_validate,y_train,y_validate = train_test_split(x_train,y_train,test_size = 0.2,random_state = 12345)"
   ]
  },
  {
   "cell_type": "markdown",
   "id": "265af8c4",
   "metadata": {},
   "source": [
    "<a id='visualization'></a>\n",
    "### Data Visualisation"
   ]
  },
  {
   "cell_type": "code",
   "execution_count": 111,
   "id": "8bb45f4d",
   "metadata": {},
   "outputs": [
    {
     "data": {
      "image/png": "[encoded data removed]",
      "text/plain": [
       "<Figure size 1080x1080 with 9 Axes>"
      ]
     },
     "metadata": {},
     "output_type": "display_data"
    }
   ],
   "source": [
    "# now we try to visulaize our data which is ready now to train the network.\n",
    "class_names = ['T_shirt/top', 'Trouser', 'Pullover', 'Dress', 'Coat', \n",
    "               'Sandal', 'Shirt', 'Sneaker', 'Bag', 'Ankle boot'] # with the order that they are assigned to the labels\n",
    "plt.figure(figsize=(15,15))\n",
    "for i in range(9): # first 9 images \n",
    "    plt.subplot(3, 3, i + 1) # to put them all in one plot with 3 columns and 3 rows\n",
    "    plt.xticks([])\n",
    "    plt.yticks([]) # both lines to remove x and y axis numbers so the labels can appear correctly\n",
    "    plt.imshow(x_train[i].reshape((28,28))) # to show the image  (28*28 = 784 (number of pixels))\n",
    "    #label_index = int(y_train[i]) \n",
    "    plt.title(class_names[label_index]) # labels from y to show the classification of each image\n",
    "plt.show()"
   ]
  },
  {
   "cell_type": "markdown",
   "id": "dba9ca7a",
   "metadata": {},
   "source": [
    "<a id='cnn'></a>\n",
    "### CNN"
   ]
  },
  {
   "cell_type": "code",
   "execution_count": 112,
   "id": "acb98c3f",
   "metadata": {},
   "outputs": [],
   "source": [
    "# Now we define the image shape and the batch size\n",
    "image_rows = 28\n",
    "image_cols = 28\n",
    "batch_size = 4096\n",
    "image_shape = (image_rows,image_cols,1) "
   ]
  },
  {
   "cell_type": "code",
   "execution_count": 113,
   "id": "9cbb5445",
   "metadata": {},
   "outputs": [],
   "source": [
    "# just a final touch on the train validate test split sets.\n",
    "x_train = x_train.reshape(x_train.shape[0],*image_shape) # * to avoid integer error\n",
    "x_test = x_test.reshape(x_test.shape[0],*image_shape) # and change only columns\n",
    "x_validate = x_validate.reshape(x_validate.shape[0],*image_shape)"
   ]
  },
  {
   "cell_type": "code",
   "execution_count": 114,
   "id": "f42b48aa",
   "metadata": {},
   "outputs": [],
   "source": [
    "cnn_model = Sequential([\n",
    "    Conv2D(filters=32,kernel_size=3,activation='relu',input_shape = image_shape),\n",
    "    MaxPooling2D(pool_size=2) ,# down sampling the output instead of 28*28 it is 14*14\n",
    "    Dropout(0.2),\n",
    "    Flatten(), # flatten out the layers\n",
    "    Dense(32,activation='relu'),\n",
    "    Dense(10,activation = 'softmax')\n",
    "    \n",
    "])"
   ]
  },
  {
   "cell_type": "markdown",
   "id": "3ada10eb",
   "metadata": {},
   "source": [
    "The first layer in model network, keras.layers.Flatten, \n",
    "transforms the format of the images from 28*28 2d array to a 1d array (of 28 * 28 = 784 pixels). "
   ]
  },
  {
   "cell_type": "markdown",
   "id": "08ff6139",
   "metadata": {},
   "source": [
    "Now we need an optimizer , metrics and a loss function for the model to operate correctly."
   ]
  },
  {
   "cell_type": "code",
   "execution_count": 115,
   "id": "f246748d",
   "metadata": {},
   "outputs": [
    {
     "name": "stdout",
     "output_type": "stream",
     "text": [
      "Epoch 1/75\n",
      "12/12 [==============================] - 12s 978ms/step - loss: 1.8321 - accuracy: 0.4086 - val_loss: 1.2712 - val_accuracy: 0.6156\n",
      "Epoch 2/75\n",
      "12/12 [==============================] - 11s 913ms/step - loss: 1.0147 - accuracy: 0.6595 - val_loss: 0.7964 - val_accuracy: 0.7189\n",
      "Epoch 3/75\n",
      "12/12 [==============================] - 11s 915ms/step - loss: 0.7312 - accuracy: 0.7352 - val_loss: 0.6520 - val_accuracy: 0.7671\n",
      "Epoch 4/75\n",
      "12/12 [==============================] - 11s 906ms/step - loss: 0.6193 - accuracy: 0.7809 - val_loss: 0.5746 - val_accuracy: 0.7937\n",
      "Epoch 5/75\n",
      "12/12 [==============================] - 11s 932ms/step - loss: 0.5585 - accuracy: 0.8030 - val_loss: 0.5281 - val_accuracy: 0.8116\n",
      "Epoch 6/75\n",
      "12/12 [==============================] - 11s 947ms/step - loss: 0.5187 - accuracy: 0.8169 - val_loss: 0.4951 - val_accuracy: 0.8224\n",
      "Epoch 7/75\n",
      "12/12 [==============================] - 11s 939ms/step - loss: 0.4924 - accuracy: 0.8282 - val_loss: 0.4709 - val_accuracy: 0.8346\n",
      "Epoch 8/75\n",
      "12/12 [==============================] - 11s 959ms/step - loss: 0.4712 - accuracy: 0.8345 - val_loss: 0.4550 - val_accuracy: 0.8368\n",
      "Epoch 9/75\n",
      "12/12 [==============================] - 11s 920ms/step - loss: 0.4542 - accuracy: 0.8399 - val_loss: 0.4368 - val_accuracy: 0.8469\n",
      "Epoch 10/75\n",
      "12/12 [==============================] - 11s 958ms/step - loss: 0.4395 - accuracy: 0.8468 - val_loss: 0.4231 - val_accuracy: 0.8495\n",
      "Epoch 11/75\n",
      "12/12 [==============================] - 12s 972ms/step - loss: 0.4254 - accuracy: 0.8498 - val_loss: 0.4115 - val_accuracy: 0.8548\n",
      "Epoch 12/75\n",
      "12/12 [==============================] - 11s 950ms/step - loss: 0.4134 - accuracy: 0.8543 - val_loss: 0.4067 - val_accuracy: 0.8579\n",
      "Epoch 13/75\n",
      "12/12 [==============================] - 12s 966ms/step - loss: 0.4118 - accuracy: 0.8540 - val_loss: 0.4007 - val_accuracy: 0.8565\n",
      "Epoch 14/75\n",
      "12/12 [==============================] - 11s 935ms/step - loss: 0.3990 - accuracy: 0.8593 - val_loss: 0.3903 - val_accuracy: 0.8637\n",
      "Epoch 15/75\n",
      "12/12 [==============================] - 11s 955ms/step - loss: 0.3912 - accuracy: 0.8624 - val_loss: 0.3803 - val_accuracy: 0.8653\n",
      "Epoch 16/75\n",
      "12/12 [==============================] - 11s 953ms/step - loss: 0.3846 - accuracy: 0.8655 - val_loss: 0.3776 - val_accuracy: 0.8679\n",
      "Epoch 17/75\n",
      "12/12 [==============================] - 11s 943ms/step - loss: 0.3789 - accuracy: 0.8676 - val_loss: 0.3682 - val_accuracy: 0.8724\n",
      "Epoch 18/75\n",
      "12/12 [==============================] - 11s 945ms/step - loss: 0.3740 - accuracy: 0.8687 - val_loss: 0.3654 - val_accuracy: 0.8692\n",
      "Epoch 19/75\n",
      "12/12 [==============================] - 11s 948ms/step - loss: 0.3669 - accuracy: 0.8708 - val_loss: 0.3578 - val_accuracy: 0.8752\n",
      "Epoch 20/75\n",
      "12/12 [==============================] - 11s 954ms/step - loss: 0.3610 - accuracy: 0.8730 - val_loss: 0.3537 - val_accuracy: 0.8766\n",
      "Epoch 21/75\n",
      "12/12 [==============================] - 12s 993ms/step - loss: 0.3581 - accuracy: 0.8741 - val_loss: 0.3504 - val_accuracy: 0.8773\n",
      "Epoch 22/75\n",
      "12/12 [==============================] - 12s 1s/step - loss: 0.3519 - accuracy: 0.8767 - val_loss: 0.3460 - val_accuracy: 0.8794\n",
      "Epoch 23/75\n",
      "12/12 [==============================] - 12s 974ms/step - loss: 0.3457 - accuracy: 0.8788 - val_loss: 0.3451 - val_accuracy: 0.8774\n",
      "Epoch 24/75\n",
      "12/12 [==============================] - 12s 974ms/step - loss: 0.3456 - accuracy: 0.8778 - val_loss: 0.3406 - val_accuracy: 0.8807\n",
      "Epoch 25/75\n",
      "12/12 [==============================] - 12s 994ms/step - loss: 0.3400 - accuracy: 0.8802 - val_loss: 0.3360 - val_accuracy: 0.8813\n",
      "Epoch 26/75\n",
      "12/12 [==============================] - 13s 1s/step - loss: 0.3379 - accuracy: 0.8806 - val_loss: 0.3351 - val_accuracy: 0.8808\n",
      "Epoch 27/75\n",
      "12/12 [==============================] - 14s 1s/step - loss: 0.3338 - accuracy: 0.8823 - val_loss: 0.3322 - val_accuracy: 0.8824\n",
      "Epoch 28/75\n",
      "12/12 [==============================] - 13s 1s/step - loss: 0.3304 - accuracy: 0.8847 - val_loss: 0.3303 - val_accuracy: 0.8821\n",
      "Epoch 29/75\n",
      "12/12 [==============================] - 12s 1s/step - loss: 0.3276 - accuracy: 0.8848 - val_loss: 0.3278 - val_accuracy: 0.8840\n",
      "Epoch 30/75\n",
      "12/12 [==============================] - 11s 961ms/step - loss: 0.3260 - accuracy: 0.8850 - val_loss: 0.3268 - val_accuracy: 0.8822\n",
      "Epoch 31/75\n",
      "12/12 [==============================] - 12s 987ms/step - loss: 0.3238 - accuracy: 0.8860 - val_loss: 0.3249 - val_accuracy: 0.8837\n",
      "Epoch 32/75\n",
      "12/12 [==============================] - 12s 971ms/step - loss: 0.3204 - accuracy: 0.8884 - val_loss: 0.3195 - val_accuracy: 0.8863\n",
      "Epoch 33/75\n",
      "12/12 [==============================] - 11s 940ms/step - loss: 0.3169 - accuracy: 0.8884 - val_loss: 0.3177 - val_accuracy: 0.8889\n",
      "Epoch 34/75\n",
      "12/12 [==============================] - 12s 977ms/step - loss: 0.3118 - accuracy: 0.8905 - val_loss: 0.3195 - val_accuracy: 0.8860\n",
      "Epoch 35/75\n",
      "12/12 [==============================] - 12s 995ms/step - loss: 0.3106 - accuracy: 0.8900 - val_loss: 0.3116 - val_accuracy: 0.8909\n",
      "Epoch 36/75\n",
      "12/12 [==============================] - 11s 961ms/step - loss: 0.3058 - accuracy: 0.8927 - val_loss: 0.3095 - val_accuracy: 0.8900\n",
      "Epoch 37/75\n",
      "12/12 [==============================] - 12s 962ms/step - loss: 0.3059 - accuracy: 0.8923 - val_loss: 0.3105 - val_accuracy: 0.8908\n",
      "Epoch 38/75\n",
      "12/12 [==============================] - 11s 957ms/step - loss: 0.3052 - accuracy: 0.8924 - val_loss: 0.3067 - val_accuracy: 0.8908\n",
      "Epoch 39/75\n",
      "12/12 [==============================] - 12s 975ms/step - loss: 0.3012 - accuracy: 0.8931 - val_loss: 0.3054 - val_accuracy: 0.8932\n",
      "Epoch 40/75\n",
      "12/12 [==============================] - 12s 978ms/step - loss: 0.2997 - accuracy: 0.8934 - val_loss: 0.3057 - val_accuracy: 0.8918\n",
      "Epoch 41/75\n",
      "12/12 [==============================] - 12s 976ms/step - loss: 0.3006 - accuracy: 0.8936 - val_loss: 0.3047 - val_accuracy: 0.8923\n",
      "Epoch 42/75\n",
      "12/12 [==============================] - 12s 973ms/step - loss: 0.2982 - accuracy: 0.8934 - val_loss: 0.3028 - val_accuracy: 0.8922\n",
      "Epoch 43/75\n",
      "12/12 [==============================] - 12s 984ms/step - loss: 0.2943 - accuracy: 0.8957 - val_loss: 0.2997 - val_accuracy: 0.8942\n",
      "Epoch 44/75\n",
      "12/12 [==============================] - 12s 976ms/step - loss: 0.2923 - accuracy: 0.8965 - val_loss: 0.2969 - val_accuracy: 0.8947\n",
      "Epoch 45/75\n",
      "12/12 [==============================] - 12s 965ms/step - loss: 0.2893 - accuracy: 0.8983 - val_loss: 0.2989 - val_accuracy: 0.8947\n",
      "Epoch 46/75\n",
      "12/12 [==============================] - 11s 946ms/step - loss: 0.2869 - accuracy: 0.8987 - val_loss: 0.2942 - val_accuracy: 0.8961\n",
      "Epoch 47/75\n",
      "12/12 [==============================] - 12s 976ms/step - loss: 0.2858 - accuracy: 0.8985 - val_loss: 0.2957 - val_accuracy: 0.8958\n",
      "Epoch 48/75\n",
      "12/12 [==============================] - 11s 960ms/step - loss: 0.2854 - accuracy: 0.8998 - val_loss: 0.2916 - val_accuracy: 0.8978\n",
      "Epoch 49/75\n",
      "12/12 [==============================] - 11s 943ms/step - loss: 0.2808 - accuracy: 0.8996 - val_loss: 0.2941 - val_accuracy: 0.8967\n",
      "Epoch 50/75\n",
      "12/12 [==============================] - 11s 959ms/step - loss: 0.2809 - accuracy: 0.9008 - val_loss: 0.2900 - val_accuracy: 0.8988\n",
      "Epoch 51/75\n",
      "12/12 [==============================] - 12s 966ms/step - loss: 0.2780 - accuracy: 0.9019 - val_loss: 0.2890 - val_accuracy: 0.8977\n",
      "Epoch 52/75\n",
      "12/12 [==============================] - 12s 980ms/step - loss: 0.2773 - accuracy: 0.9017 - val_loss: 0.2880 - val_accuracy: 0.8989\n",
      "Epoch 53/75\n",
      "12/12 [==============================] - 12s 994ms/step - loss: 0.2756 - accuracy: 0.9028 - val_loss: 0.2901 - val_accuracy: 0.8965\n",
      "Epoch 54/75\n",
      "12/12 [==============================] - 11s 939ms/step - loss: 0.2755 - accuracy: 0.9018 - val_loss: 0.2882 - val_accuracy: 0.8987\n",
      "Epoch 55/75\n",
      "12/12 [==============================] - 11s 933ms/step - loss: 0.2744 - accuracy: 0.9015 - val_loss: 0.2865 - val_accuracy: 0.8989\n",
      "Epoch 56/75\n",
      "12/12 [==============================] - 11s 944ms/step - loss: 0.2731 - accuracy: 0.9031 - val_loss: 0.2852 - val_accuracy: 0.8988\n",
      "Epoch 57/75\n",
      "12/12 [==============================] - 12s 1s/step - loss: 0.2719 - accuracy: 0.9042 - val_loss: 0.2854 - val_accuracy: 0.8978\n",
      "Epoch 58/75\n"
     ]
    },
    {
     "name": "stdout",
     "output_type": "stream",
     "text": [
      "12/12 [==============================] - 11s 941ms/step - loss: 0.2702 - accuracy: 0.9044 - val_loss: 0.2837 - val_accuracy: 0.8998\n",
      "Epoch 59/75\n",
      "12/12 [==============================] - 11s 953ms/step - loss: 0.2671 - accuracy: 0.9057 - val_loss: 0.2825 - val_accuracy: 0.9000\n",
      "Epoch 60/75\n",
      "12/12 [==============================] - 11s 936ms/step - loss: 0.2679 - accuracy: 0.9038 - val_loss: 0.2826 - val_accuracy: 0.9007\n",
      "Epoch 61/75\n",
      "12/12 [==============================] - 11s 927ms/step - loss: 0.2683 - accuracy: 0.9040 - val_loss: 0.2838 - val_accuracy: 0.9003\n",
      "Epoch 62/75\n",
      "12/12 [==============================] - 11s 937ms/step - loss: 0.2647 - accuracy: 0.9053 - val_loss: 0.2812 - val_accuracy: 0.9013\n",
      "Epoch 63/75\n",
      "12/12 [==============================] - 11s 958ms/step - loss: 0.2618 - accuracy: 0.9071 - val_loss: 0.2790 - val_accuracy: 0.9024\n",
      "Epoch 64/75\n",
      "12/12 [==============================] - 11s 936ms/step - loss: 0.2607 - accuracy: 0.9075 - val_loss: 0.2806 - val_accuracy: 0.9005\n",
      "Epoch 65/75\n",
      "12/12 [==============================] - 11s 922ms/step - loss: 0.2610 - accuracy: 0.9076 - val_loss: 0.2765 - val_accuracy: 0.9022\n",
      "Epoch 66/75\n",
      "12/12 [==============================] - 11s 944ms/step - loss: 0.2582 - accuracy: 0.9080 - val_loss: 0.2785 - val_accuracy: 0.9010\n",
      "Epoch 67/75\n",
      "12/12 [==============================] - 11s 928ms/step - loss: 0.2571 - accuracy: 0.9079 - val_loss: 0.2756 - val_accuracy: 0.9032\n",
      "Epoch 68/75\n",
      "12/12 [==============================] - 12s 988ms/step - loss: 0.2570 - accuracy: 0.9075 - val_loss: 0.2748 - val_accuracy: 0.9020\n",
      "Epoch 69/75\n",
      "12/12 [==============================] - 12s 987ms/step - loss: 0.2560 - accuracy: 0.9084 - val_loss: 0.2758 - val_accuracy: 0.9021\n",
      "Epoch 70/75\n",
      "12/12 [==============================] - 11s 956ms/step - loss: 0.2559 - accuracy: 0.9088 - val_loss: 0.2731 - val_accuracy: 0.9031\n",
      "Epoch 71/75\n",
      "12/12 [==============================] - 11s 940ms/step - loss: 0.2534 - accuracy: 0.9098 - val_loss: 0.2745 - val_accuracy: 0.9016\n",
      "Epoch 72/75\n",
      "12/12 [==============================] - 11s 961ms/step - loss: 0.2534 - accuracy: 0.9099 - val_loss: 0.2742 - val_accuracy: 0.9024\n",
      "Epoch 73/75\n",
      "12/12 [==============================] - 12s 977ms/step - loss: 0.2491 - accuracy: 0.9118 - val_loss: 0.2711 - val_accuracy: 0.9039\n",
      "Epoch 74/75\n",
      "12/12 [==============================] - 11s 948ms/step - loss: 0.2507 - accuracy: 0.9097 - val_loss: 0.2726 - val_accuracy: 0.9038\n",
      "Epoch 75/75\n",
      "12/12 [==============================] - 12s 991ms/step - loss: 0.2502 - accuracy: 0.9112 - val_loss: 0.2711 - val_accuracy: 0.9054\n"
     ]
    }
   ],
   "source": [
    "cnn_model.compile(loss ='sparse_categorical_crossentropy', optimizer=Adam(lr=0.001),metrics =['accuracy'])\n",
    "history = cnn_model.fit(\n",
    "    x_train,\n",
    "    y_train,\n",
    "    batch_size=4096,\n",
    "    epochs=75,\n",
    "    verbose=1,\n",
    "    validation_data=(x_validate,y_validate),\n",
    ")"
   ]
  },
  {
   "cell_type": "markdown",
   "id": "967fb69a",
   "metadata": {},
   "source": [
    "<a id='results'></a>\n",
    "### Results!"
   ]
  },
  {
   "cell_type": "code",
   "execution_count": 116,
   "id": "9109c3d6",
   "metadata": {},
   "outputs": [
    {
     "name": "stdout",
     "output_type": "stream",
     "text": [
      "Test Loss : 0.2630\n",
      "Test Accuracy : 0.9071\n"
     ]
    }
   ],
   "source": [
    "score = cnn_model.evaluate(x_test,y_test,verbose=0)\n",
    "print('Test Loss : {:.4f}'.format(score[0]))\n",
    "print('Test Accuracy : {:.4f}'.format(score[1]))"
   ]
  },
  {
   "cell_type": "markdown",
   "id": "1b570a32",
   "metadata": {},
   "source": [
    "#### We conclude that the accuracy was good but the loss could be improved a bit!"
   ]
  }
 ],
 "metadata": {
  "kernelspec": {
   "display_name": "Python 3 (ipykernel)",
   "language": "python",
   "name": "python3"
  },
  "language_info": {
   "codemirror_mode": {
    "name": "ipython",
    "version": 3
   },
   "file_extension": ".py",
   "mimetype": "text/x-python",
   "name": "python",
   "nbconvert_exporter": "python",
   "pygments_lexer": "ipython3",
   "version": "3.9.7"
  }
 },
 "nbformat": 4,
 "nbformat_minor": 5
}
